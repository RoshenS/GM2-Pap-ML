{
 "cells": [
  {
   "attachments": {},
   "cell_type": "markdown",
   "metadata": {},
   "source": [
    "<a id=\"import\"></a>\n",
    "# <center>Get the Prediction of a Model</center>"
   ]
  },
  {
   "cell_type": "code",
   "execution_count": 1,
   "metadata": {},
   "outputs": [],
   "source": [
    "#importing packages\n",
    "import numpy as np\n",
    "import pandas as pd\n",
    "import os\n",
    "os.environ['TF_CPP_MIN_LOG_LEVEL'] = '2'\n",
    "import time\n",
    "import matplotlib.pyplot as plt\n",
    "from matplotlib.colors import LogNorm\n",
    "from matplotlib import colors\n",
    "from matplotlib import cm, colors as mcolors\n",
    "import seaborn as sns\n",
    "sns.set_style('darkgrid')\n",
    "from sklearn.model_selection import train_test_split\n",
    "from sklearn.metrics import confusion_matrix\n",
    "from sklearn.metrics import classification_report\n",
    "import tensorflow as tf\n",
    "from tensorflow import keras\n",
    "from keras.preprocessing.image import ImageDataGenerator\n",
    "from keras.layers import Dense, Dropout,BatchNormalization\n",
    "from keras.optimizers import Adamax\n",
    "from keras import regularizers\n",
    "from keras.models import Model\n",
    "from PIL import Image"
   ]
  },
  {
   "attachments": {},
   "cell_type": "markdown",
   "metadata": {},
   "source": [
    "Run the module below to read an image from the path and get the prediction of a selected model."
   ]
  },
  {
   "cell_type": "code",
   "execution_count": 2,
   "metadata": {},
   "outputs": [
    {
     "name": "stdout",
     "output_type": "stream",
     "text": [
      "Normal\n"
     ]
    }
   ],
   "source": [
    "#path of image to evaluate relative to code file.\n",
    "path = r'Images to Evaluate\\\\1.jpg'\n",
    "\n",
    "#loading the image and converting it to the input of the model (tf tensor).\n",
    "img = tf.io.read_file(path)\n",
    "dec_img = tf.image.decode_jpeg(img, channels=3)\n",
    "tensor = tf.convert_to_tensor(dec_img)\n",
    "test = tf.expand_dims(tensor, axis=0)\n",
    "\n",
    "#select model to be used from Models folder.\n",
    "model_loc = 'Models\\\\Q=80_99.27'\n",
    "model = keras.models.load_model(model_loc)\n",
    "\n",
    "#List to map indices of model prediction to classes\n",
    "class_list = [\"Normal\",\"Papilledema\",\"Pseudopapilledema\"]\n",
    "\n",
    "#obtain and print the predicted class\n",
    "pred=model(test)\n",
    "print(class_list[np.argmax(pred)])"
   ]
  }
 ],
 "metadata": {
  "kernelspec": {
   "display_name": "base",
   "language": "python",
   "name": "python3"
  },
  "language_info": {
   "codemirror_mode": {
    "name": "ipython",
    "version": 3
   },
   "file_extension": ".py",
   "mimetype": "text/x-python",
   "name": "python",
   "nbconvert_exporter": "python",
   "pygments_lexer": "ipython3",
   "version": "3.10.9"
  },
  "orig_nbformat": 4
 },
 "nbformat": 4,
 "nbformat_minor": 2
}
